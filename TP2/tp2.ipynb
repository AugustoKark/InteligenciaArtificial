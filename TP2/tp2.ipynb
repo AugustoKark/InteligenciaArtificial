{
 "cells": [
  {
   "cell_type": "code",
   "execution_count": 466,
   "metadata": {},
   "outputs": [],
   "source": [
    "import pandas as pd\n",
    "import numpy as np\n",
    "import matplotlib.pyplot as plt\n",
    "import seaborn as sns\n"
   ]
  },
  {
   "cell_type": "code",
   "execution_count": 467,
   "metadata": {},
   "outputs": [
    {
     "name": "stdout",
     "output_type": "stream",
     "text": [
      "   age     sex     bmi  children smoker     region      charges\n",
      "0   19  female  27.900         0    yes  southwest  16884.92400\n",
      "1   18    male  33.770         1     no  southeast   1725.55230\n",
      "2   28    male  33.000         3     no  southeast   4449.46200\n",
      "3   33    male  22.705         0     no  northwest  21984.47061\n",
      "4   32    male  28.880         0     no  northwest   3866.85520\n",
      "5   31  female  25.740         0     no  southeast   3756.62160\n",
      "6   46  female  33.440         1     no  southeast   8240.58960\n",
      "7   37  female  27.740         3     no  northwest   7281.50560\n",
      "8   37    male  29.830         2     no  northeast   6406.41070\n",
      "9   60  female  25.840         0     no  northwest  28923.13692\n"
     ]
    }
   ],
   "source": [
    "df = pd.read_csv('insurance.csv')\n",
    "print(df.head(10))"
   ]
  },
  {
   "cell_type": "code",
   "execution_count": 468,
   "metadata": {},
   "outputs": [
    {
     "name": "stdout",
     "output_type": "stream",
     "text": [
      "<class 'pandas.core.frame.DataFrame'>\n",
      "RangeIndex: 1338 entries, 0 to 1337\n",
      "Data columns (total 5 columns):\n",
      " #   Column    Non-Null Count  Dtype  \n",
      "---  ------    --------------  -----  \n",
      " 0   age       1338 non-null   int64  \n",
      " 1   bmi       1338 non-null   float64\n",
      " 2   children  1338 non-null   int64  \n",
      " 3   smoker    1338 non-null   int64  \n",
      " 4   charges   1338 non-null   float64\n",
      "dtypes: float64(2), int64(3)\n",
      "memory usage: 52.4 KB\n"
     ]
    },
    {
     "name": "stderr",
     "output_type": "stream",
     "text": [
      "/tmp/ipykernel_13906/1750981503.py:4: FutureWarning: Downcasting behavior in `replace` is deprecated and will be removed in a future version. To retain the old behavior, explicitly call `result.infer_objects(copy=False)`. To opt-in to the future behavior, set `pd.set_option('future.no_silent_downcasting', True)`\n",
      "  df['smoker'] = df['smoker'].replace({'yes':1,'no':0})\n"
     ]
    }
   ],
   "source": [
    "#ELiminamos las variables no numericas\n",
    "df = df.drop(columns=['sex','region'])\n",
    "#Reemplazamos los valores de la columna smoker 'yes' por 1 y 'no' por 0\n",
    "df['smoker'] = df['smoker'].replace({'yes':1,'no':0})\n",
    "\n",
    "df.info()"
   ]
  },
  {
   "cell_type": "code",
   "execution_count": 469,
   "metadata": {},
   "outputs": [
    {
     "name": "stdout",
     "output_type": "stream",
     "text": [
      "1\n"
     ]
    }
   ],
   "source": [
    "#Checkeamos si hay valores repetidos\n",
    "print(df.duplicated().sum())"
   ]
  },
  {
   "cell_type": "code",
   "execution_count": 470,
   "metadata": {},
   "outputs": [
    {
     "name": "stdout",
     "output_type": "stream",
     "text": [
      "0\n"
     ]
    }
   ],
   "source": [
    "#Como hay (1) valor repetido lo eliminamos\n",
    "df = df.drop_duplicates()\n",
    "print(df.duplicated().sum())"
   ]
  },
  {
   "cell_type": "code",
   "execution_count": 471,
   "metadata": {},
   "outputs": [
    {
     "data": {
      "image/png": "[encoded data removed]",
      "text/plain": [
       "<Figure size 640x480 with 1 Axes>"
      ]
     },
     "metadata": {},
     "output_type": "display_data"
    }
   ],
   "source": [
    "#Vamos a ver si hay outliers\n",
    "sns.boxplot(data=df, orient='h')\n",
    "plt.show()\n"
   ]
  },
  {
   "cell_type": "code",
   "execution_count": 472,
   "metadata": {},
   "outputs": [
    {
     "name": "stdout",
     "output_type": "stream",
     "text": [
      "Outliers Down para la columna bmi: 0\n",
      "Outliers Up para la columna bmi: 9\n",
      "Total de outliers en la columna bmi: 9\n",
      "Outliers Down para la columna charges: 0\n",
      "Outliers Up para la columna charges: 139\n",
      "Total de outliers en la columna charges: 139\n",
      "Outliers Down para la columna bmi: 0\n",
      "Outliers Up para la columna bmi: 0\n",
      "Total de outliers en la columna bmi: 0\n",
      "Outliers Down para la columna charges: 0\n",
      "Outliers Up para la columna charges: 0\n",
      "Total de outliers en la columna charges: 0\n"
     ]
    }
   ],
   "source": [
    "#Eliminamos los outliers\n",
    "\n",
    "def count_outliers(df, column):\n",
    "    Q1 = df[column].quantile(0.25)\n",
    "    Q3 = df[column].quantile(0.75)\n",
    "    IQR = Q3 - Q1\n",
    "    lower_bound = Q1 - 1.5 * IQR\n",
    "    upper_bound = Q3 + 1.5 * IQR\n",
    "\n",
    "    outliers_down = df[df[column] < lower_bound].shape[0]\n",
    "    outliers_up = df[df[column] > upper_bound].shape[0]\n",
    "    total_outliers = outliers_down + outliers_up\n",
    "\n",
    "    print(f'Outliers Down para la columna {column}: {outliers_down}')\n",
    "    print(f'Outliers Up para la columna {column}: {outliers_up}')\n",
    "    print(f'Total de outliers en la columna {column}: {total_outliers}')\n",
    "\n",
    "  \n",
    "    \n",
    "    return  total_outliers, outliers_down, outliers_up\n",
    "\n",
    "\n",
    "total_outliers_bmi, outliers_down_bmi, outliers_up_bmi = count_outliers(df, 'bmi')\n",
    "total_outliers_charges, outliers_down_charges, outliers_up_charges = count_outliers(df, 'charges')\n",
    "\n",
    "\n",
    "        \n",
    "\n",
    "\n",
    "def delete_outliers(df, column, up, down,factor=1.5):\n",
    "    Q1 = df[column].quantile(0.25)\n",
    "    Q3 = df[column].quantile(0.75)\n",
    "    IQR = Q3 - Q1\n",
    "    lower_bound = Q1 - factor * IQR\n",
    "    upper_bound = Q3 + factor * IQR\n",
    "\n",
    "    if up !=0:\n",
    "        df = df[df[column] <= upper_bound]\n",
    "    elif down !=0:\n",
    "        df = df[df[column] >= lower_bound]\n",
    "    return df\n",
    "\n",
    "\n",
    "\n",
    "\n",
    "\n",
    "\n",
    "df = delete_outliers(df, 'bmi', outliers_up_bmi, outliers_down_bmi, factor=1.34)\n",
    "cuenta1, cuenta2, cuenta3 = count_outliers(df, 'bmi')\n",
    "df = delete_outliers(df, 'charges', outliers_up_charges, outliers_down_charges, factor=0.6)\n",
    "cuenta1, cuenta2, cuenta3 = count_outliers(df, 'charges')\n",
    "\n",
    "\n",
    "\n",
    "\n",
    "\n",
    "\n",
    "\n",
    "\n",
    "\n",
    "\n",
    "\n",
    "\n",
    "\n",
    "\n",
    "\n",
    "\n"
   ]
  },
  {
   "cell_type": "code",
   "execution_count": 473,
   "metadata": {},
   "outputs": [
    {
     "data": {
      "image/png": "[encoded data removed]",
      "text/plain": [
       "<Figure size 1200x600 with 2 Axes>"
      ]
     },
     "metadata": {},
     "output_type": "display_data"
    },
    {
     "data": {
      "text/plain": [
       "age         1105\n",
       "bmi         1105\n",
       "children    1105\n",
       "smoker      1105\n",
       "charges     1105\n",
       "dtype: int64"
      ]
     },
     "execution_count": 473,
     "metadata": {},
     "output_type": "execute_result"
    }
   ],
   "source": [
    "#Vamos a ver si hay outliers\n",
    "figs, axs = plt.subplots(1, 2, figsize=(12, 6))\n",
    "sns.boxplot(df['bmi'], ax=axs[0])\n",
    "sns.boxplot(df['charges'], ax=axs[1])\n",
    "plt.show()\n",
    "df.count()\n"
   ]
  },
  {
   "cell_type": "code",
   "execution_count": 474,
   "metadata": {},
   "outputs": [
    {
     "name": "stdout",
     "output_type": "stream",
     "text": [
      "Normalidad de age: ShapiroResult(statistic=np.float64(0.9459518727050092), pvalue=np.float64(1.1212153150863811e-19))\n",
      "Normalidad de bmi: ShapiroResult(statistic=np.float64(0.9934047755265093), pvalue=np.float64(8.149653613738792e-05))\n",
      "Normalidad de children: ShapiroResult(statistic=np.float64(0.8153052647532781), pvalue=np.float64(9.000261411776954e-34))\n",
      "Normalidad de smoker: ShapiroResult(statistic=np.float64(0.31136774632232533), pvalue=np.float64(2.472656799766499e-53))\n",
      "Normalidad de charges: ShapiroResult(statistic=np.float64(0.9370505926813828), pvalue=np.float64(3.3050354442000514e-21))\n"
     ]
    }
   ],
   "source": [
    "# Normalidad la calculamos usando el test de Shapiro-Wilk\n",
    "\n",
    "from scipy.stats import shapiro\n",
    "normalidad_age = shapiro(df['age'])\n",
    "normalidad_bmi = shapiro(df['bmi'])\n",
    "normalidad_children = shapiro(df['children'])\n",
    "normalidad_smoker = shapiro(df['smoker'])\n",
    "normalidad_charges = shapiro(df['charges'])\n",
    "print(f\"Normalidad de age: {normalidad_age}\")\n",
    "print(f\"Normalidad de bmi: {normalidad_bmi}\")\n",
    "print(f\"Normalidad de children: {normalidad_children}\")\n",
    "print(f\"Normalidad de smoker: {normalidad_smoker}\")\n",
    "print(f\"Normalidad de charges: {normalidad_charges}\")\n",
    "\n"
   ]
  },
  {
   "cell_type": "markdown",
   "metadata": {},
   "source": [
    "Resultados del Test de Shapiro-Wilk:\n",
    "\n",
    "    age: p-value ≈ 1.12×10−191.12×10−19 → No es normal.\n",
    "    bmi: p-value ≈ 8.15×10−58.15×10−5 → No es normal.\n",
    "    children: p-value ≈ 9.00×10−349.00×10−34 → No es normal.\n",
    "    smoker: p-value ≈ 2.47×10−532.47×10−53 → No es normal.\n",
    "    charges: p-value ≈ 3.31×10−213.31×10−21 → No es normal.\n",
    "\n",
    "Conclusión:\n",
    "\n",
    "Dado que ninguno de los p-valores es mayor a 0.05, ninguna de las variables sigue una distribución normal por lo que \n"
   ]
  }
 ],
 "metadata": {
  "kernelspec": {
   "display_name": "Python 3",
   "language": "python",
   "name": "python3"
  },
  "language_info": {
   "codemirror_mode": {
    "name": "ipython",
    "version": 3
   },
   "file_extension": ".py",
   "mimetype": "text/x-python",
   "name": "python",
   "nbconvert_exporter": "python",
   "pygments_lexer": "ipython3",
   "version": "3.10.12"
  }
 },
 "nbformat": 4,
 "nbformat_minor": 2
}
